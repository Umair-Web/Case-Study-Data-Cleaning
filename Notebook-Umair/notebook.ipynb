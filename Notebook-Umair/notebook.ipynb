{
 "cells": [
  {
   "cell_type": "code",
   "execution_count": 2,
   "metadata": {},
   "outputs": [
    {
     "name": "stdout",
     "output_type": "stream",
     "text": [
      "Hello\n"
     ]
    }
   ],
   "source": [
    "print(\"Hello\")"
   ]
  },
  {
   "cell_type": "code",
   "execution_count": 53,
   "metadata": {},
   "outputs": [],
   "source": [
    "import pandas as pd\n",
    "import numpy as np\n",
    "dataFrame=pd.read_csv(\"bank_marketing.csv\",index_col=False)"
   ]
  },
  {
   "cell_type": "code",
   "execution_count": 54,
   "metadata": {},
   "outputs": [
    {
     "name": "stdout",
     "output_type": "stream",
     "text": [
      "<class 'pandas.core.frame.DataFrame'>\n",
      "RangeIndex: 41188 entries, 0 to 41187\n",
      "Data columns (total 16 columns):\n",
      " #   Column                      Non-Null Count  Dtype  \n",
      "---  ------                      --------------  -----  \n",
      " 0   client_id                   41188 non-null  int64  \n",
      " 1   age                         41188 non-null  int64  \n",
      " 2   job                         41188 non-null  object \n",
      " 3   marital                     41188 non-null  object \n",
      " 4   education                   41188 non-null  object \n",
      " 5   credit_default              41188 non-null  object \n",
      " 6   mortgage                    41188 non-null  object \n",
      " 7   month                       41188 non-null  object \n",
      " 8   day                         41188 non-null  int64  \n",
      " 9   contact_duration            41188 non-null  int64  \n",
      " 10  number_contacts             41188 non-null  int64  \n",
      " 11  previous_campaign_contacts  41188 non-null  int64  \n",
      " 12  previous_outcome            41188 non-null  object \n",
      " 13  cons_price_idx              41188 non-null  float64\n",
      " 14  euribor_three_months        41188 non-null  float64\n",
      " 15  campaign_outcome            41188 non-null  object \n",
      "dtypes: float64(2), int64(6), object(8)\n",
      "memory usage: 5.0+ MB\n"
     ]
    }
   ],
   "source": [
    "dataFrame.info()"
   ]
  },
  {
   "cell_type": "code",
   "execution_count": 55,
   "metadata": {},
   "outputs": [
    {
     "data": {
      "text/html": [
       "<div>\n",
       "<style scoped>\n",
       "    .dataframe tbody tr th:only-of-type {\n",
       "        vertical-align: middle;\n",
       "    }\n",
       "\n",
       "    .dataframe tbody tr th {\n",
       "        vertical-align: top;\n",
       "    }\n",
       "\n",
       "    .dataframe thead th {\n",
       "        text-align: right;\n",
       "    }\n",
       "</style>\n",
       "<table border=\"1\" class=\"dataframe\">\n",
       "  <thead>\n",
       "    <tr style=\"text-align: right;\">\n",
       "      <th></th>\n",
       "      <th>client_id</th>\n",
       "      <th>age</th>\n",
       "      <th>job</th>\n",
       "      <th>marital</th>\n",
       "      <th>education</th>\n",
       "      <th>credit_default</th>\n",
       "      <th>mortgage</th>\n",
       "      <th>month</th>\n",
       "      <th>day</th>\n",
       "      <th>contact_duration</th>\n",
       "      <th>number_contacts</th>\n",
       "      <th>previous_campaign_contacts</th>\n",
       "      <th>previous_outcome</th>\n",
       "      <th>cons_price_idx</th>\n",
       "      <th>euribor_three_months</th>\n",
       "      <th>campaign_outcome</th>\n",
       "    </tr>\n",
       "  </thead>\n",
       "  <tbody>\n",
       "    <tr>\n",
       "      <th>0</th>\n",
       "      <td>0</td>\n",
       "      <td>56</td>\n",
       "      <td>housemaid</td>\n",
       "      <td>married</td>\n",
       "      <td>basic.4y</td>\n",
       "      <td>no</td>\n",
       "      <td>no</td>\n",
       "      <td>may</td>\n",
       "      <td>13</td>\n",
       "      <td>261</td>\n",
       "      <td>1</td>\n",
       "      <td>0</td>\n",
       "      <td>nonexistent</td>\n",
       "      <td>93.994</td>\n",
       "      <td>4.857</td>\n",
       "      <td>no</td>\n",
       "    </tr>\n",
       "    <tr>\n",
       "      <th>1</th>\n",
       "      <td>1</td>\n",
       "      <td>57</td>\n",
       "      <td>services</td>\n",
       "      <td>married</td>\n",
       "      <td>high.school</td>\n",
       "      <td>unknown</td>\n",
       "      <td>no</td>\n",
       "      <td>may</td>\n",
       "      <td>19</td>\n",
       "      <td>149</td>\n",
       "      <td>1</td>\n",
       "      <td>0</td>\n",
       "      <td>nonexistent</td>\n",
       "      <td>93.994</td>\n",
       "      <td>4.857</td>\n",
       "      <td>no</td>\n",
       "    </tr>\n",
       "    <tr>\n",
       "      <th>2</th>\n",
       "      <td>2</td>\n",
       "      <td>37</td>\n",
       "      <td>services</td>\n",
       "      <td>married</td>\n",
       "      <td>high.school</td>\n",
       "      <td>no</td>\n",
       "      <td>yes</td>\n",
       "      <td>may</td>\n",
       "      <td>23</td>\n",
       "      <td>226</td>\n",
       "      <td>1</td>\n",
       "      <td>0</td>\n",
       "      <td>nonexistent</td>\n",
       "      <td>93.994</td>\n",
       "      <td>4.857</td>\n",
       "      <td>no</td>\n",
       "    </tr>\n",
       "    <tr>\n",
       "      <th>3</th>\n",
       "      <td>3</td>\n",
       "      <td>40</td>\n",
       "      <td>admin.</td>\n",
       "      <td>married</td>\n",
       "      <td>basic.6y</td>\n",
       "      <td>no</td>\n",
       "      <td>no</td>\n",
       "      <td>may</td>\n",
       "      <td>27</td>\n",
       "      <td>151</td>\n",
       "      <td>1</td>\n",
       "      <td>0</td>\n",
       "      <td>nonexistent</td>\n",
       "      <td>93.994</td>\n",
       "      <td>4.857</td>\n",
       "      <td>no</td>\n",
       "    </tr>\n",
       "    <tr>\n",
       "      <th>4</th>\n",
       "      <td>4</td>\n",
       "      <td>56</td>\n",
       "      <td>services</td>\n",
       "      <td>married</td>\n",
       "      <td>high.school</td>\n",
       "      <td>no</td>\n",
       "      <td>no</td>\n",
       "      <td>may</td>\n",
       "      <td>3</td>\n",
       "      <td>307</td>\n",
       "      <td>1</td>\n",
       "      <td>0</td>\n",
       "      <td>nonexistent</td>\n",
       "      <td>93.994</td>\n",
       "      <td>4.857</td>\n",
       "      <td>no</td>\n",
       "    </tr>\n",
       "  </tbody>\n",
       "</table>\n",
       "</div>"
      ],
      "text/plain": [
       "   client_id  age        job  marital    education credit_default mortgage  \\\n",
       "0          0   56  housemaid  married     basic.4y             no       no   \n",
       "1          1   57   services  married  high.school        unknown       no   \n",
       "2          2   37   services  married  high.school             no      yes   \n",
       "3          3   40     admin.  married     basic.6y             no       no   \n",
       "4          4   56   services  married  high.school             no       no   \n",
       "\n",
       "  month  day  contact_duration  number_contacts  previous_campaign_contacts  \\\n",
       "0   may   13               261                1                           0   \n",
       "1   may   19               149                1                           0   \n",
       "2   may   23               226                1                           0   \n",
       "3   may   27               151                1                           0   \n",
       "4   may    3               307                1                           0   \n",
       "\n",
       "  previous_outcome  cons_price_idx  euribor_three_months campaign_outcome  \n",
       "0      nonexistent          93.994                 4.857               no  \n",
       "1      nonexistent          93.994                 4.857               no  \n",
       "2      nonexistent          93.994                 4.857               no  \n",
       "3      nonexistent          93.994                 4.857               no  \n",
       "4      nonexistent          93.994                 4.857               no  "
      ]
     },
     "execution_count": 55,
     "metadata": {},
     "output_type": "execute_result"
    }
   ],
   "source": [
    "dataFrame.head()"
   ]
  },
  {
   "cell_type": "code",
   "execution_count": 75,
   "metadata": {},
   "outputs": [],
   "source": [
    "Client=dataFrame[[\"client_id\",\"age\",\"job\",\"marital\",\"education\",\"credit_default\",\"mortgage\"]]\n",
    "Client.to_csv(\"client.csv\",index=False)\n",
    "\n",
    "\n",
    "\n"
   ]
  },
  {
   "cell_type": "code",
   "execution_count": 77,
   "metadata": {},
   "outputs": [
    {
     "data": {
      "text/html": [
       "<div>\n",
       "<style scoped>\n",
       "    .dataframe tbody tr th:only-of-type {\n",
       "        vertical-align: middle;\n",
       "    }\n",
       "\n",
       "    .dataframe tbody tr th {\n",
       "        vertical-align: top;\n",
       "    }\n",
       "\n",
       "    .dataframe thead th {\n",
       "        text-align: right;\n",
       "    }\n",
       "</style>\n",
       "<table border=\"1\" class=\"dataframe\">\n",
       "  <thead>\n",
       "    <tr style=\"text-align: right;\">\n",
       "      <th></th>\n",
       "      <th>client_id</th>\n",
       "      <th>age</th>\n",
       "      <th>job</th>\n",
       "      <th>marital</th>\n",
       "      <th>education</th>\n",
       "      <th>credit_default</th>\n",
       "      <th>mortgage</th>\n",
       "    </tr>\n",
       "  </thead>\n",
       "  <tbody>\n",
       "    <tr>\n",
       "      <th>0</th>\n",
       "      <td>0</td>\n",
       "      <td>56</td>\n",
       "      <td>housemaid</td>\n",
       "      <td>married</td>\n",
       "      <td>basic.4y</td>\n",
       "      <td>no</td>\n",
       "      <td>no</td>\n",
       "    </tr>\n",
       "    <tr>\n",
       "      <th>1</th>\n",
       "      <td>1</td>\n",
       "      <td>57</td>\n",
       "      <td>services</td>\n",
       "      <td>married</td>\n",
       "      <td>high.school</td>\n",
       "      <td>unknown</td>\n",
       "      <td>no</td>\n",
       "    </tr>\n",
       "    <tr>\n",
       "      <th>2</th>\n",
       "      <td>2</td>\n",
       "      <td>37</td>\n",
       "      <td>services</td>\n",
       "      <td>married</td>\n",
       "      <td>high.school</td>\n",
       "      <td>no</td>\n",
       "      <td>yes</td>\n",
       "    </tr>\n",
       "    <tr>\n",
       "      <th>3</th>\n",
       "      <td>3</td>\n",
       "      <td>40</td>\n",
       "      <td>admin.</td>\n",
       "      <td>married</td>\n",
       "      <td>basic.6y</td>\n",
       "      <td>no</td>\n",
       "      <td>no</td>\n",
       "    </tr>\n",
       "    <tr>\n",
       "      <th>4</th>\n",
       "      <td>4</td>\n",
       "      <td>56</td>\n",
       "      <td>services</td>\n",
       "      <td>married</td>\n",
       "      <td>high.school</td>\n",
       "      <td>no</td>\n",
       "      <td>no</td>\n",
       "    </tr>\n",
       "    <tr>\n",
       "      <th>...</th>\n",
       "      <td>...</td>\n",
       "      <td>...</td>\n",
       "      <td>...</td>\n",
       "      <td>...</td>\n",
       "      <td>...</td>\n",
       "      <td>...</td>\n",
       "      <td>...</td>\n",
       "    </tr>\n",
       "    <tr>\n",
       "      <th>41183</th>\n",
       "      <td>41183</td>\n",
       "      <td>73</td>\n",
       "      <td>retired</td>\n",
       "      <td>married</td>\n",
       "      <td>professional.course</td>\n",
       "      <td>no</td>\n",
       "      <td>yes</td>\n",
       "    </tr>\n",
       "    <tr>\n",
       "      <th>41184</th>\n",
       "      <td>41184</td>\n",
       "      <td>46</td>\n",
       "      <td>blue-collar</td>\n",
       "      <td>married</td>\n",
       "      <td>professional.course</td>\n",
       "      <td>no</td>\n",
       "      <td>no</td>\n",
       "    </tr>\n",
       "    <tr>\n",
       "      <th>41185</th>\n",
       "      <td>41185</td>\n",
       "      <td>56</td>\n",
       "      <td>retired</td>\n",
       "      <td>married</td>\n",
       "      <td>university.degree</td>\n",
       "      <td>no</td>\n",
       "      <td>yes</td>\n",
       "    </tr>\n",
       "    <tr>\n",
       "      <th>41186</th>\n",
       "      <td>41186</td>\n",
       "      <td>44</td>\n",
       "      <td>technician</td>\n",
       "      <td>married</td>\n",
       "      <td>professional.course</td>\n",
       "      <td>no</td>\n",
       "      <td>no</td>\n",
       "    </tr>\n",
       "    <tr>\n",
       "      <th>41187</th>\n",
       "      <td>41187</td>\n",
       "      <td>74</td>\n",
       "      <td>retired</td>\n",
       "      <td>married</td>\n",
       "      <td>professional.course</td>\n",
       "      <td>no</td>\n",
       "      <td>yes</td>\n",
       "    </tr>\n",
       "  </tbody>\n",
       "</table>\n",
       "<p>41188 rows × 7 columns</p>\n",
       "</div>"
      ],
      "text/plain": [
       "       client_id  age          job  marital            education  \\\n",
       "0              0   56    housemaid  married             basic.4y   \n",
       "1              1   57     services  married          high.school   \n",
       "2              2   37     services  married          high.school   \n",
       "3              3   40       admin.  married             basic.6y   \n",
       "4              4   56     services  married          high.school   \n",
       "...          ...  ...          ...      ...                  ...   \n",
       "41183      41183   73      retired  married  professional.course   \n",
       "41184      41184   46  blue-collar  married  professional.course   \n",
       "41185      41185   56      retired  married    university.degree   \n",
       "41186      41186   44   technician  married  professional.course   \n",
       "41187      41187   74      retired  married  professional.course   \n",
       "\n",
       "      credit_default mortgage  \n",
       "0                 no       no  \n",
       "1            unknown       no  \n",
       "2                 no      yes  \n",
       "3                 no       no  \n",
       "4                 no       no  \n",
       "...              ...      ...  \n",
       "41183             no      yes  \n",
       "41184             no       no  \n",
       "41185             no      yes  \n",
       "41186             no       no  \n",
       "41187             no      yes  \n",
       "\n",
       "[41188 rows x 7 columns]"
      ]
     },
     "execution_count": 77,
     "metadata": {},
     "output_type": "execute_result"
    }
   ],
   "source": [
    "ClientDataFrame=pd.read_csv(\"client.csv\")\n",
    "\n"
   ]
  },
  {
   "cell_type": "code",
   "execution_count": 89,
   "metadata": {},
   "outputs": [
    {
     "name": "stdout",
     "output_type": "stream",
     "text": [
      "0             no\n",
      "1        unknown\n",
      "2             no\n",
      "3             no\n",
      "4             no\n",
      "          ...   \n",
      "41183         no\n",
      "41184         no\n",
      "41185         no\n",
      "41186         no\n",
      "41187         no\n",
      "Name: credit_default, Length: 41188, dtype: object\n",
      "<class 'str'>\n"
     ]
    }
   ],
   "source": [
    "#Changing credit data type\n",
    "ClientDataFrame[\"credit_default\"]=ClientDataFrame[\"credit_default\"].fillna(\"\").astype(\"str\")\n",
    "print(ClientDataFrame[\"credit_default\"])\n",
    "\n"
   ]
  },
  {
   "cell_type": "code",
   "execution_count": 90,
   "metadata": {},
   "outputs": [
    {
     "name": "stdout",
     "output_type": "stream",
     "text": [
      "0        0\n",
      "1        0\n",
      "2        0\n",
      "3        0\n",
      "4        0\n",
      "        ..\n",
      "41183    0\n",
      "41184    0\n",
      "41185    0\n",
      "41186    0\n",
      "41187    0\n",
      "Name: credit_default, Length: 41188, dtype: object\n"
     ]
    }
   ],
   "source": [
    "ClientDataFrame['credit_default'] = ClientDataFrame['credit_default'].apply(lambda x: '1' if x ==\"yes\" else '0')\n",
    "print(ClientDataFrame['credit_default'] )"
   ]
  },
  {
   "cell_type": "code",
   "execution_count": 93,
   "metadata": {},
   "outputs": [
    {
     "name": "stdout",
     "output_type": "stream",
     "text": [
      "credit_default\n",
      "0    41185\n",
      "1        3\n",
      "Name: count, dtype: int64\n"
     ]
    }
   ],
   "source": [
    "Counting=ClientDataFrame['credit_default'].value_counts()\n",
    "print(Counting)"
   ]
  },
  {
   "cell_type": "code",
   "execution_count": 94,
   "metadata": {},
   "outputs": [
    {
     "name": "stdout",
     "output_type": "stream",
     "text": [
      "mortgage\n",
      "yes        21576\n",
      "no         18622\n",
      "unknown      990\n",
      "Name: count, dtype: int64\n"
     ]
    }
   ],
   "source": [
    "Counting=ClientDataFrame['mortgage'].value_counts()\n",
    "print(Counting)"
   ]
  },
  {
   "cell_type": "code",
   "execution_count": 95,
   "metadata": {},
   "outputs": [
    {
     "name": "stdout",
     "output_type": "stream",
     "text": [
      "0        0\n",
      "1        0\n",
      "2        1\n",
      "3        0\n",
      "4        0\n",
      "        ..\n",
      "41183    1\n",
      "41184    0\n",
      "41185    1\n",
      "41186    0\n",
      "41187    1\n",
      "Name: mortgage, Length: 41188, dtype: object\n"
     ]
    }
   ],
   "source": [
    "ClientDataFrame['mortgage'] = ClientDataFrame['mortgage'].apply(lambda x: '1' if x ==\"yes\" else '0')\n",
    "print(ClientDataFrame['mortgage'] )"
   ]
  },
  {
   "cell_type": "code",
   "execution_count": 96,
   "metadata": {},
   "outputs": [
    {
     "name": "stdout",
     "output_type": "stream",
     "text": [
      "mortgage\n",
      "1    21576\n",
      "0    19612\n",
      "Name: count, dtype: int64\n"
     ]
    }
   ],
   "source": [
    "Counting=ClientDataFrame['mortgage'].value_counts()\n",
    "print(Counting)"
   ]
  },
  {
   "cell_type": "code",
   "execution_count": 110,
   "metadata": {},
   "outputs": [
    {
     "name": "stdout",
     "output_type": "stream",
     "text": [
      "<class 'str'>\n",
      "education\n",
      "university.degree      12168\n",
      "high.school             9515\n",
      "basic.9y                6045\n",
      "professional.course     5243\n",
      "basic.4y                4176\n",
      "basic.6y                2292\n",
      "unknown                 1731\n",
      "illiterate                18\n",
      "Name: count, dtype: int64\n"
     ]
    }
   ],
   "source": [
    "\n",
    "print(type(ClientDataFrame[\"education\"].iloc[0])) \n",
    "\n",
    "ClientDataFrame[\"education\"]=ClientDataFrame[\"education\"].fillna(\"No Education\")\n",
    "\n",
    "counting=ClientDataFrame[\"education\"].value_counts()\n",
    "\n",
    "print(counting)\n",
    "\n",
    "\n"
   ]
  },
  {
   "cell_type": "code",
   "execution_count": null,
   "metadata": {},
   "outputs": [],
   "source": []
  },
  {
   "cell_type": "code",
   "execution_count": null,
   "metadata": {},
   "outputs": [],
   "source": []
  }
 ],
 "metadata": {
  "kernelspec": {
   "display_name": "Python 3",
   "language": "python",
   "name": "python3"
  },
  "language_info": {
   "codemirror_mode": {
    "name": "ipython",
    "version": 3
   },
   "file_extension": ".py",
   "mimetype": "text/x-python",
   "name": "python",
   "nbconvert_exporter": "python",
   "pygments_lexer": "ipython3",
   "version": "3.12.1"
  }
 },
 "nbformat": 4,
 "nbformat_minor": 2
}
